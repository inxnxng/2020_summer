{
  "nbformat": 4,
  "nbformat_minor": 0,
  "metadata": {
    "colab": {
      "name": "Untitled2.ipynb",
      "provenance": []
    },
    "kernelspec": {
      "name": "python3",
      "display_name": "Python 3"
    }
  },
  "cells": [
    {
      "cell_type": "code",
      "metadata": {
        "id": "HaWXsTW7zZXQ",
        "colab_type": "code",
        "colab": {}
      },
      "source": [
        "import tensorflow as tf\n",
        "import pandas as pd"
      ],
      "execution_count": null,
      "outputs": []
    },
    {
      "cell_type": "code",
      "metadata": {
        "id": "57e5Xg3qzeX6",
        "colab_type": "code",
        "colab": {
          "base_uri": "https://localhost:8080/",
          "height": 268
        },
        "outputId": "56748788-c79d-4d86-a2a0-99bc55b02bd9"
      },
      "source": [
        "file='https://raw.githubusercontent.com/blackdew/tensorflow1/master/csv/boston.csv'\n",
        "boston = pd.read_csv(file)\n",
        "print(boston.columns)\n",
        "boston.head()"
      ],
      "execution_count": null,
      "outputs": [
        {
          "output_type": "stream",
          "text": [
            "Index(['crim', 'zn', 'indus', 'chas', 'nox', 'rm', 'age', 'dis', 'rad', 'tax',\n",
            "       'ptratio', 'b', 'lstat', 'medv'],\n",
            "      dtype='object')\n"
          ],
          "name": "stdout"
        },
        {
          "output_type": "execute_result",
          "data": {
            "text/html": [
              "<div>\n",
              "<style scoped>\n",
              "    .dataframe tbody tr th:only-of-type {\n",
              "        vertical-align: middle;\n",
              "    }\n",
              "\n",
              "    .dataframe tbody tr th {\n",
              "        vertical-align: top;\n",
              "    }\n",
              "\n",
              "    .dataframe thead th {\n",
              "        text-align: right;\n",
              "    }\n",
              "</style>\n",
              "<table border=\"1\" class=\"dataframe\">\n",
              "  <thead>\n",
              "    <tr style=\"text-align: right;\">\n",
              "      <th></th>\n",
              "      <th>crim</th>\n",
              "      <th>zn</th>\n",
              "      <th>indus</th>\n",
              "      <th>chas</th>\n",
              "      <th>nox</th>\n",
              "      <th>rm</th>\n",
              "      <th>age</th>\n",
              "      <th>dis</th>\n",
              "      <th>rad</th>\n",
              "      <th>tax</th>\n",
              "      <th>ptratio</th>\n",
              "      <th>b</th>\n",
              "      <th>lstat</th>\n",
              "      <th>medv</th>\n",
              "    </tr>\n",
              "  </thead>\n",
              "  <tbody>\n",
              "    <tr>\n",
              "      <th>0</th>\n",
              "      <td>0.00632</td>\n",
              "      <td>18.0</td>\n",
              "      <td>2.31</td>\n",
              "      <td>0</td>\n",
              "      <td>0.538</td>\n",
              "      <td>6.575</td>\n",
              "      <td>65.2</td>\n",
              "      <td>4.0900</td>\n",
              "      <td>1</td>\n",
              "      <td>296</td>\n",
              "      <td>15.3</td>\n",
              "      <td>396.90</td>\n",
              "      <td>4.98</td>\n",
              "      <td>24.0</td>\n",
              "    </tr>\n",
              "    <tr>\n",
              "      <th>1</th>\n",
              "      <td>0.02731</td>\n",
              "      <td>0.0</td>\n",
              "      <td>7.07</td>\n",
              "      <td>0</td>\n",
              "      <td>0.469</td>\n",
              "      <td>6.421</td>\n",
              "      <td>78.9</td>\n",
              "      <td>4.9671</td>\n",
              "      <td>2</td>\n",
              "      <td>242</td>\n",
              "      <td>17.8</td>\n",
              "      <td>396.90</td>\n",
              "      <td>9.14</td>\n",
              "      <td>21.6</td>\n",
              "    </tr>\n",
              "    <tr>\n",
              "      <th>2</th>\n",
              "      <td>0.02729</td>\n",
              "      <td>0.0</td>\n",
              "      <td>7.07</td>\n",
              "      <td>0</td>\n",
              "      <td>0.469</td>\n",
              "      <td>7.185</td>\n",
              "      <td>61.1</td>\n",
              "      <td>4.9671</td>\n",
              "      <td>2</td>\n",
              "      <td>242</td>\n",
              "      <td>17.8</td>\n",
              "      <td>392.83</td>\n",
              "      <td>4.03</td>\n",
              "      <td>34.7</td>\n",
              "    </tr>\n",
              "    <tr>\n",
              "      <th>3</th>\n",
              "      <td>0.03237</td>\n",
              "      <td>0.0</td>\n",
              "      <td>2.18</td>\n",
              "      <td>0</td>\n",
              "      <td>0.458</td>\n",
              "      <td>6.998</td>\n",
              "      <td>45.8</td>\n",
              "      <td>6.0622</td>\n",
              "      <td>3</td>\n",
              "      <td>222</td>\n",
              "      <td>18.7</td>\n",
              "      <td>394.63</td>\n",
              "      <td>2.94</td>\n",
              "      <td>33.4</td>\n",
              "    </tr>\n",
              "    <tr>\n",
              "      <th>4</th>\n",
              "      <td>0.06905</td>\n",
              "      <td>0.0</td>\n",
              "      <td>2.18</td>\n",
              "      <td>0</td>\n",
              "      <td>0.458</td>\n",
              "      <td>7.147</td>\n",
              "      <td>54.2</td>\n",
              "      <td>6.0622</td>\n",
              "      <td>3</td>\n",
              "      <td>222</td>\n",
              "      <td>18.7</td>\n",
              "      <td>396.90</td>\n",
              "      <td>5.33</td>\n",
              "      <td>36.2</td>\n",
              "    </tr>\n",
              "  </tbody>\n",
              "</table>\n",
              "</div>"
            ],
            "text/plain": [
              "      crim    zn  indus  chas    nox  ...  tax  ptratio       b  lstat  medv\n",
              "0  0.00632  18.0   2.31     0  0.538  ...  296     15.3  396.90   4.98  24.0\n",
              "1  0.02731   0.0   7.07     0  0.469  ...  242     17.8  396.90   9.14  21.6\n",
              "2  0.02729   0.0   7.07     0  0.469  ...  242     17.8  392.83   4.03  34.7\n",
              "3  0.03237   0.0   2.18     0  0.458  ...  222     18.7  394.63   2.94  33.4\n",
              "4  0.06905   0.0   2.18     0  0.458  ...  222     18.7  396.90   5.33  36.2\n",
              "\n",
              "[5 rows x 14 columns]"
            ]
          },
          "metadata": {
            "tags": []
          },
          "execution_count": 2
        }
      ]
    },
    {
      "cell_type": "code",
      "metadata": {
        "id": "axbUEdtCzuI2",
        "colab_type": "code",
        "colab": {
          "base_uri": "https://localhost:8080/",
          "height": 34
        },
        "outputId": "b936f40d-bf0c-48b7-c9be-6929031d719c"
      },
      "source": [
        "indep =  boston[['crim', 'zn', 'indus', 'chas', 'nox', 'rm', 'age', 'dis', 'rad', 'tax',\n",
        "       'ptratio', 'b', 'lstat']]\n",
        "dep = boston[['medv']]\n",
        "\n",
        "print(indep.shape, dep.shape)"
      ],
      "execution_count": 13,
      "outputs": [
        {
          "output_type": "stream",
          "text": [
            "(506, 13) (506, 1)\n"
          ],
          "name": "stdout"
        }
      ]
    },
    {
      "cell_type": "code",
      "metadata": {
        "id": "x5V1_zUw0K-6",
        "colab_type": "code",
        "colab": {}
      },
      "source": [
        "X = tf.keras.layers.Input(shape=[13])\n",
        "H = tf.keras.layers.Dense(10,activation='swish')(X)\n",
        "\n",
        "Y = tf.keras.layers.Dense(1)(H)\n",
        "\n",
        "model = tf.keras.models.Model(X,Y)\n",
        "model.compile(loss='mse')"
      ],
      "execution_count": 18,
      "outputs": []
    },
    {
      "cell_type": "code",
      "metadata": {
        "id": "yJLqTlRp0fVT",
        "colab_type": "code",
        "colab": {
          "base_uri": "https://localhost:8080/",
          "height": 34
        },
        "outputId": "0e37c488-b0dc-419a-9ca5-d3794fe11a7d"
      },
      "source": [
        "model.fit(indep, dep, epochs=1000, verbose=0)"
      ],
      "execution_count": 27,
      "outputs": [
        {
          "output_type": "execute_result",
          "data": {
            "text/plain": [
              "<tensorflow.python.keras.callbacks.History at 0x7efd53f9acf8>"
            ]
          },
          "metadata": {
            "tags": []
          },
          "execution_count": 27
        }
      ]
    },
    {
      "cell_type": "code",
      "metadata": {
        "id": "9yWKu9qrK1x8",
        "colab_type": "code",
        "colab": {
          "base_uri": "https://localhost:8080/",
          "height": 263
        },
        "outputId": "cbb6ebc8-3bf1-4a55-cfe1-8735f22e5cb9"
      },
      "source": [
        "model.summary()"
      ],
      "execution_count": 28,
      "outputs": [
        {
          "output_type": "stream",
          "text": [
            "Model: \"functional_7\"\n",
            "_________________________________________________________________\n",
            "Layer (type)                 Output Shape              Param #   \n",
            "=================================================================\n",
            "input_4 (InputLayer)         [(None, 13)]              0         \n",
            "_________________________________________________________________\n",
            "dense_6 (Dense)              (None, 10)                140       \n",
            "_________________________________________________________________\n",
            "dense_7 (Dense)              (None, 1)                 11        \n",
            "=================================================================\n",
            "Total params: 151\n",
            "Trainable params: 151\n",
            "Non-trainable params: 0\n",
            "_________________________________________________________________\n"
          ],
          "name": "stdout"
        }
      ]
    },
    {
      "cell_type": "code",
      "metadata": {
        "id": "fppSARL20sA-",
        "colab_type": "code",
        "colab": {
          "base_uri": "https://localhost:8080/",
          "height": 105
        },
        "outputId": "0f1f5572-e4c2-4e27-b002-6c42a4662086"
      },
      "source": [
        "model.predict(indep[5:10])"
      ],
      "execution_count": 29,
      "outputs": [
        {
          "output_type": "execute_result",
          "data": {
            "text/plain": [
              "array([[25.614016],\n",
              "       [21.164158],\n",
              "       [18.03961 ],\n",
              "       [10.062542],\n",
              "       [17.635843]], dtype=float32)"
            ]
          },
          "metadata": {
            "tags": []
          },
          "execution_count": 29
        }
      ]
    },
    {
      "cell_type": "code",
      "metadata": {
        "id": "boMReszu1cDz",
        "colab_type": "code",
        "colab": {
          "base_uri": "https://localhost:8080/",
          "height": 195
        },
        "outputId": "db2f93bd-2c1b-4357-824d-ee6f9428d327"
      },
      "source": [
        "dep[5:10]"
      ],
      "execution_count": 30,
      "outputs": [
        {
          "output_type": "execute_result",
          "data": {
            "text/html": [
              "<div>\n",
              "<style scoped>\n",
              "    .dataframe tbody tr th:only-of-type {\n",
              "        vertical-align: middle;\n",
              "    }\n",
              "\n",
              "    .dataframe tbody tr th {\n",
              "        vertical-align: top;\n",
              "    }\n",
              "\n",
              "    .dataframe thead th {\n",
              "        text-align: right;\n",
              "    }\n",
              "</style>\n",
              "<table border=\"1\" class=\"dataframe\">\n",
              "  <thead>\n",
              "    <tr style=\"text-align: right;\">\n",
              "      <th></th>\n",
              "      <th>medv</th>\n",
              "    </tr>\n",
              "  </thead>\n",
              "  <tbody>\n",
              "    <tr>\n",
              "      <th>5</th>\n",
              "      <td>28.7</td>\n",
              "    </tr>\n",
              "    <tr>\n",
              "      <th>6</th>\n",
              "      <td>22.9</td>\n",
              "    </tr>\n",
              "    <tr>\n",
              "      <th>7</th>\n",
              "      <td>27.1</td>\n",
              "    </tr>\n",
              "    <tr>\n",
              "      <th>8</th>\n",
              "      <td>16.5</td>\n",
              "    </tr>\n",
              "    <tr>\n",
              "      <th>9</th>\n",
              "      <td>18.9</td>\n",
              "    </tr>\n",
              "  </tbody>\n",
              "</table>\n",
              "</div>"
            ],
            "text/plain": [
              "   medv\n",
              "5  28.7\n",
              "6  22.9\n",
              "7  27.1\n",
              "8  16.5\n",
              "9  18.9"
            ]
          },
          "metadata": {
            "tags": []
          },
          "execution_count": 30
        }
      ]
    },
    {
      "cell_type": "code",
      "metadata": {
        "id": "eRT7UfrI1ls7",
        "colab_type": "code",
        "colab": {
          "base_uri": "https://localhost:8080/",
          "height": 1000
        },
        "outputId": "e155eb07-323f-427c-d4a4-a325f64c0ff6"
      },
      "source": [
        "# 모델의 수식 확인\n",
        "model.get_weights()"
      ],
      "execution_count": 26,
      "outputs": [
        {
          "output_type": "execute_result",
          "data": {
            "text/plain": [
              "[array([[ 2.79308558e-01,  2.89463401e-01, -5.64071417e-01,\n",
              "         -4.11573380e-01,  2.21297607e-01,  3.05408597e-01,\n",
              "         -1.23950757e-01, -2.61953115e-01, -3.92906189e-01,\n",
              "         -3.33657349e-03],\n",
              "        [ 1.92382932e-01, -4.00941819e-01,  2.50606179e-01,\n",
              "          1.65951490e-01,  4.57924604e-02,  3.01263213e-01,\n",
              "         -1.18081465e-01, -2.59492606e-01,  2.79060662e-01,\n",
              "         -2.22788543e-01],\n",
              "        [ 2.17338443e-01, -2.42368639e-01,  1.17119692e-01,\n",
              "          6.06857657e-01, -3.52839649e-01,  2.80262023e-01,\n",
              "         -4.43619221e-01,  2.79283207e-02,  5.00523932e-02,\n",
              "         -5.55919766e-01],\n",
              "        [ 4.88182664e-01, -4.20887351e-01, -1.10612243e-01,\n",
              "          1.06344068e+00,  9.38609958e-01, -4.91230786e-01,\n",
              "         -4.31730658e-01, -2.94613242e-01, -1.64868474e-01,\n",
              "         -9.04981494e-01],\n",
              "        [-3.33179712e-01, -2.76072919e-01,  2.29191555e-05,\n",
              "          3.26996863e-01,  6.56529725e-01, -5.49685419e-01,\n",
              "          1.75084218e-01, -6.42434597e-01, -2.84393728e-01,\n",
              "         -6.08312905e-01],\n",
              "        [-3.34733784e-01, -1.90780059e-01, -1.89424127e-01,\n",
              "          8.52566302e-01,  1.76541388e-01, -2.64105231e-01,\n",
              "          6.10011965e-02,  6.72642980e-03,  1.40321419e-01,\n",
              "         -3.28449845e-01],\n",
              "        [-8.85064900e-02,  3.13472480e-01,  3.66766274e-01,\n",
              "          3.64334434e-01,  4.11260456e-01,  2.08060563e-01,\n",
              "         -3.67974848e-01,  2.77482420e-01,  2.57697344e-01,\n",
              "         -4.81816940e-02],\n",
              "        [ 1.07716918e-01, -2.74894625e-01,  4.14872676e-01,\n",
              "         -5.69974668e-02,  4.97240067e-01,  2.42761075e-01,\n",
              "         -2.56324857e-01, -3.93324345e-01, -2.93100238e-01,\n",
              "         -2.70687461e-01],\n",
              "        [-3.44890535e-01, -2.74068005e-02,  3.40724707e-01,\n",
              "          5.15411317e-01, -3.72726023e-01, -3.96629989e-01,\n",
              "          3.74102294e-01,  2.33076245e-01, -3.46749395e-01,\n",
              "         -2.68226743e-01],\n",
              "        [-4.14638072e-01, -2.78573275e-01, -5.65445840e-01,\n",
              "          1.19484186e-01,  1.72157973e-01,  3.10019523e-01,\n",
              "         -1.48856014e-01, -4.29297835e-02, -4.65227664e-01,\n",
              "          5.48818484e-02],\n",
              "        [ 4.11402106e-01, -5.87542415e-01,  1.84329644e-01,\n",
              "          5.65695226e-01,  4.07193720e-01,  2.01817140e-01,\n",
              "          1.81951582e-01,  3.11766714e-01,  3.19150180e-01,\n",
              "         -5.99184334e-01],\n",
              "        [-4.76086557e-01,  2.63816193e-02,  1.62716940e-01,\n",
              "          4.87483665e-02,  1.65037096e-01, -1.45883381e-01,\n",
              "          2.35868841e-02,  2.51067668e-01,  1.32502690e-01,\n",
              "          2.41134435e-01],\n",
              "        [-7.95842707e-02,  3.09265610e-02, -5.25134802e-01,\n",
              "         -6.31043255e-01, -2.40193456e-01,  2.93562055e-01,\n",
              "          9.00393277e-02,  3.68981719e-01, -4.39070687e-02,\n",
              "          4.69698980e-02]], dtype=float32),\n",
              " array([ 0.0000000e+00, -1.3117094e-01, -5.7061512e-02,  4.4007823e-01,\n",
              "         4.3981186e-01, -4.4088393e-01,  1.3367823e-05, -2.6599929e-01,\n",
              "        -1.4938690e-01, -3.7784919e-01], dtype=float32),\n",
              " array([[-0.37538934],\n",
              "        [ 0.29815254],\n",
              "        [ 0.77899444],\n",
              "        [ 0.46419778],\n",
              "        [ 0.5174198 ],\n",
              "        [-0.5531003 ],\n",
              "        [-0.46061143],\n",
              "        [-0.5614897 ],\n",
              "        [ 0.6451282 ],\n",
              "        [-0.07905333]], dtype=float32),\n",
              " array([0.44067916], dtype=float32)]"
            ]
          },
          "metadata": {
            "tags": []
          },
          "execution_count": 26
        }
      ]
    },
    {
      "cell_type": "code",
      "metadata": {
        "id": "1uV20Qjd1638",
        "colab_type": "code",
        "colab": {}
      },
      "source": [
        ""
      ],
      "execution_count": null,
      "outputs": []
    }
  ]
}