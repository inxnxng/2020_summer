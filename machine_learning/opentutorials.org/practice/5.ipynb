{
  "nbformat": 4,
  "nbformat_minor": 0,
  "metadata": {
    "colab": {
      "name": "Untitled3.ipynb",
      "provenance": []
    },
    "kernelspec": {
      "name": "python3",
      "display_name": "Python 3"
    }
  },
  "cells": [
    {
      "cell_type": "code",
      "metadata": {
        "id": "VtnQw3Ko3ryn",
        "colab_type": "code",
        "colab": {}
      },
      "source": [
        "import tensorflow as tf\n",
        "import pandas as pd"
      ],
      "execution_count": 1,
      "outputs": []
    },
    {
      "cell_type": "code",
      "metadata": {
        "id": "iTlXwufrC8J2",
        "colab_type": "code",
        "colab": {
          "base_uri": "https://localhost:8080/",
          "height": 195
        },
        "outputId": "c16bcaee-91a5-49ec-a6f4-f8d716c50e86"
      },
      "source": [
        "file = 'https://raw.githubusercontent.com/blackdew/tensorflow1/master/csv/iris.csv'\n",
        "iris = pd.read_csv(file)\n",
        "iris.head()"
      ],
      "execution_count": 2,
      "outputs": [
        {
          "output_type": "execute_result",
          "data": {
            "text/html": [
              "<div>\n",
              "<style scoped>\n",
              "    .dataframe tbody tr th:only-of-type {\n",
              "        vertical-align: middle;\n",
              "    }\n",
              "\n",
              "    .dataframe tbody tr th {\n",
              "        vertical-align: top;\n",
              "    }\n",
              "\n",
              "    .dataframe thead th {\n",
              "        text-align: right;\n",
              "    }\n",
              "</style>\n",
              "<table border=\"1\" class=\"dataframe\">\n",
              "  <thead>\n",
              "    <tr style=\"text-align: right;\">\n",
              "      <th></th>\n",
              "      <th>꽃잎길이</th>\n",
              "      <th>꽃잎폭</th>\n",
              "      <th>꽃받침길이</th>\n",
              "      <th>꽃받침폭</th>\n",
              "      <th>품종</th>\n",
              "    </tr>\n",
              "  </thead>\n",
              "  <tbody>\n",
              "    <tr>\n",
              "      <th>0</th>\n",
              "      <td>5.1</td>\n",
              "      <td>3.5</td>\n",
              "      <td>1.4</td>\n",
              "      <td>0.2</td>\n",
              "      <td>setosa</td>\n",
              "    </tr>\n",
              "    <tr>\n",
              "      <th>1</th>\n",
              "      <td>4.9</td>\n",
              "      <td>3.0</td>\n",
              "      <td>1.4</td>\n",
              "      <td>0.2</td>\n",
              "      <td>setosa</td>\n",
              "    </tr>\n",
              "    <tr>\n",
              "      <th>2</th>\n",
              "      <td>4.7</td>\n",
              "      <td>3.2</td>\n",
              "      <td>1.3</td>\n",
              "      <td>0.2</td>\n",
              "      <td>setosa</td>\n",
              "    </tr>\n",
              "    <tr>\n",
              "      <th>3</th>\n",
              "      <td>4.6</td>\n",
              "      <td>3.1</td>\n",
              "      <td>1.5</td>\n",
              "      <td>0.2</td>\n",
              "      <td>setosa</td>\n",
              "    </tr>\n",
              "    <tr>\n",
              "      <th>4</th>\n",
              "      <td>5.0</td>\n",
              "      <td>3.6</td>\n",
              "      <td>1.4</td>\n",
              "      <td>0.2</td>\n",
              "      <td>setosa</td>\n",
              "    </tr>\n",
              "  </tbody>\n",
              "</table>\n",
              "</div>"
            ],
            "text/plain": [
              "   꽃잎길이  꽃잎폭  꽃받침길이  꽃받침폭      품종\n",
              "0   5.1  3.5    1.4   0.2  setosa\n",
              "1   4.9  3.0    1.4   0.2  setosa\n",
              "2   4.7  3.2    1.3   0.2  setosa\n",
              "3   4.6  3.1    1.5   0.2  setosa\n",
              "4   5.0  3.6    1.4   0.2  setosa"
            ]
          },
          "metadata": {
            "tags": []
          },
          "execution_count": 2
        }
      ]
    },
    {
      "cell_type": "code",
      "metadata": {
        "id": "Mua60L-oDClY",
        "colab_type": "code",
        "colab": {
          "base_uri": "https://localhost:8080/",
          "height": 212
        },
        "outputId": "bdc1f8e4-01ba-46e9-acf2-8a1c8acd5f37"
      },
      "source": [
        "encoding = pd.get_dummies(iris)\n",
        "encoding.head()"
      ],
      "execution_count": 3,
      "outputs": [
        {
          "output_type": "execute_result",
          "data": {
            "text/html": [
              "<div>\n",
              "<style scoped>\n",
              "    .dataframe tbody tr th:only-of-type {\n",
              "        vertical-align: middle;\n",
              "    }\n",
              "\n",
              "    .dataframe tbody tr th {\n",
              "        vertical-align: top;\n",
              "    }\n",
              "\n",
              "    .dataframe thead th {\n",
              "        text-align: right;\n",
              "    }\n",
              "</style>\n",
              "<table border=\"1\" class=\"dataframe\">\n",
              "  <thead>\n",
              "    <tr style=\"text-align: right;\">\n",
              "      <th></th>\n",
              "      <th>꽃잎길이</th>\n",
              "      <th>꽃잎폭</th>\n",
              "      <th>꽃받침길이</th>\n",
              "      <th>꽃받침폭</th>\n",
              "      <th>품종_setosa</th>\n",
              "      <th>품종_versicolor</th>\n",
              "      <th>품종_virginica</th>\n",
              "    </tr>\n",
              "  </thead>\n",
              "  <tbody>\n",
              "    <tr>\n",
              "      <th>0</th>\n",
              "      <td>5.1</td>\n",
              "      <td>3.5</td>\n",
              "      <td>1.4</td>\n",
              "      <td>0.2</td>\n",
              "      <td>1</td>\n",
              "      <td>0</td>\n",
              "      <td>0</td>\n",
              "    </tr>\n",
              "    <tr>\n",
              "      <th>1</th>\n",
              "      <td>4.9</td>\n",
              "      <td>3.0</td>\n",
              "      <td>1.4</td>\n",
              "      <td>0.2</td>\n",
              "      <td>1</td>\n",
              "      <td>0</td>\n",
              "      <td>0</td>\n",
              "    </tr>\n",
              "    <tr>\n",
              "      <th>2</th>\n",
              "      <td>4.7</td>\n",
              "      <td>3.2</td>\n",
              "      <td>1.3</td>\n",
              "      <td>0.2</td>\n",
              "      <td>1</td>\n",
              "      <td>0</td>\n",
              "      <td>0</td>\n",
              "    </tr>\n",
              "    <tr>\n",
              "      <th>3</th>\n",
              "      <td>4.6</td>\n",
              "      <td>3.1</td>\n",
              "      <td>1.5</td>\n",
              "      <td>0.2</td>\n",
              "      <td>1</td>\n",
              "      <td>0</td>\n",
              "      <td>0</td>\n",
              "    </tr>\n",
              "    <tr>\n",
              "      <th>4</th>\n",
              "      <td>5.0</td>\n",
              "      <td>3.6</td>\n",
              "      <td>1.4</td>\n",
              "      <td>0.2</td>\n",
              "      <td>1</td>\n",
              "      <td>0</td>\n",
              "      <td>0</td>\n",
              "    </tr>\n",
              "  </tbody>\n",
              "</table>\n",
              "</div>"
            ],
            "text/plain": [
              "   꽃잎길이  꽃잎폭  꽃받침길이  꽃받침폭  품종_setosa  품종_versicolor  품종_virginica\n",
              "0   5.1  3.5    1.4   0.2          1              0             0\n",
              "1   4.9  3.0    1.4   0.2          1              0             0\n",
              "2   4.7  3.2    1.3   0.2          1              0             0\n",
              "3   4.6  3.1    1.5   0.2          1              0             0\n",
              "4   5.0  3.6    1.4   0.2          1              0             0"
            ]
          },
          "metadata": {
            "tags": []
          },
          "execution_count": 3
        }
      ]
    },
    {
      "cell_type": "code",
      "metadata": {
        "id": "0D_eFrzoDP70",
        "colab_type": "code",
        "colab": {
          "base_uri": "https://localhost:8080/",
          "height": 70
        },
        "outputId": "1dba49dd-cdb2-42fd-aaed-9e7d600b39ef"
      },
      "source": [
        "print(encoding.columns)"
      ],
      "execution_count": 4,
      "outputs": [
        {
          "output_type": "stream",
          "text": [
            "Index(['꽃잎길이', '꽃잎폭', '꽃받침길이', '꽃받침폭', '품종_setosa', '품종_versicolor',\n",
            "       '품종_virginica'],\n",
            "      dtype='object')\n"
          ],
          "name": "stdout"
        }
      ]
    },
    {
      "cell_type": "code",
      "metadata": {
        "id": "M89qC007DXMu",
        "colab_type": "code",
        "colab": {
          "base_uri": "https://localhost:8080/",
          "height": 34
        },
        "outputId": "56c047f2-ec37-4422-8ecb-4c7838a4247c"
      },
      "source": [
        "indep = encoding[['꽃잎길이', '꽃잎폭', '꽃받침길이', '꽃받침폭']]\n",
        "dep = encoding[[ '품종_setosa', '품종_versicolor', '품종_virginica']]\n",
        "\n",
        "print(indep.shape,dep.shape)"
      ],
      "execution_count": 5,
      "outputs": [
        {
          "output_type": "stream",
          "text": [
            "(150, 4) (150, 3)\n"
          ],
          "name": "stdout"
        }
      ]
    },
    {
      "cell_type": "code",
      "metadata": {
        "id": "dWA_RGa9EAY9",
        "colab_type": "code",
        "colab": {}
      },
      "source": [
        "X = tf.keras.layers.Input(shape=[4])\n",
        "H = tf.keras.layers.Dense(5,activation='swish')(X)\n",
        "H = tf.keras.layers.Dense(5,activation='swish')(H)\n",
        "H = tf.keras.layers.Dense(5,activation='swish')(H)\n",
        "Y = tf.keras.layers.Dense(3, activation = 'softmax')(H)\n",
        "model =tf.keras.models.Model(X,Y)\n",
        "model.compile(loss = 'categorical_crossentropy',metrics = 'accuracy')"
      ],
      "execution_count": 19,
      "outputs": []
    },
    {
      "cell_type": "code",
      "metadata": {
        "id": "dhXZ0SRwEc8Y",
        "colab_type": "code",
        "colab": {
          "base_uri": "https://localhost:8080/",
          "height": 1000
        },
        "outputId": "bd24f2a8-9d5d-406a-c168-9559e04529ae"
      },
      "source": [
        "model.fit(indep, dep, epochs=100)"
      ],
      "execution_count": 20,
      "outputs": [
        {
          "output_type": "stream",
          "text": [
            "Epoch 1/100\n",
            "5/5 [==============================] - 0s 2ms/step - loss: 1.0087 - accuracy: 0.6667\n",
            "Epoch 2/100\n",
            "5/5 [==============================] - 0s 2ms/step - loss: 0.9586 - accuracy: 0.6667\n",
            "Epoch 3/100\n",
            "5/5 [==============================] - 0s 2ms/step - loss: 0.9266 - accuracy: 0.6667\n",
            "Epoch 4/100\n",
            "5/5 [==============================] - 0s 2ms/step - loss: 0.9025 - accuracy: 0.6667\n",
            "Epoch 5/100\n",
            "5/5 [==============================] - 0s 2ms/step - loss: 0.8826 - accuracy: 0.6667\n",
            "Epoch 6/100\n",
            "5/5 [==============================] - 0s 2ms/step - loss: 0.8637 - accuracy: 0.6667\n",
            "Epoch 7/100\n",
            "5/5 [==============================] - 0s 2ms/step - loss: 0.8454 - accuracy: 0.6667\n",
            "Epoch 8/100\n",
            "5/5 [==============================] - 0s 2ms/step - loss: 0.8287 - accuracy: 0.6667\n",
            "Epoch 9/100\n",
            "5/5 [==============================] - 0s 2ms/step - loss: 0.8123 - accuracy: 0.6667\n",
            "Epoch 10/100\n",
            "5/5 [==============================] - 0s 2ms/step - loss: 0.7969 - accuracy: 0.6667\n",
            "Epoch 11/100\n",
            "5/5 [==============================] - 0s 2ms/step - loss: 0.7812 - accuracy: 0.6667\n",
            "Epoch 12/100\n",
            "5/5 [==============================] - 0s 2ms/step - loss: 0.7667 - accuracy: 0.6667\n",
            "Epoch 13/100\n",
            "5/5 [==============================] - 0s 2ms/step - loss: 0.7522 - accuracy: 0.6667\n",
            "Epoch 14/100\n",
            "5/5 [==============================] - 0s 2ms/step - loss: 0.7382 - accuracy: 0.6667\n",
            "Epoch 15/100\n",
            "5/5 [==============================] - 0s 2ms/step - loss: 0.7243 - accuracy: 0.6667\n",
            "Epoch 16/100\n",
            "5/5 [==============================] - 0s 2ms/step - loss: 0.7117 - accuracy: 0.6733\n",
            "Epoch 17/100\n",
            "5/5 [==============================] - 0s 2ms/step - loss: 0.6984 - accuracy: 0.6800\n",
            "Epoch 18/100\n",
            "5/5 [==============================] - 0s 2ms/step - loss: 0.6867 - accuracy: 0.6867\n",
            "Epoch 19/100\n",
            "5/5 [==============================] - 0s 2ms/step - loss: 0.6748 - accuracy: 0.7133\n",
            "Epoch 20/100\n",
            "5/5 [==============================] - 0s 2ms/step - loss: 0.6631 - accuracy: 0.7267\n",
            "Epoch 21/100\n",
            "5/5 [==============================] - 0s 3ms/step - loss: 0.6520 - accuracy: 0.7733\n",
            "Epoch 22/100\n",
            "5/5 [==============================] - 0s 2ms/step - loss: 0.6415 - accuracy: 0.7933\n",
            "Epoch 23/100\n",
            "5/5 [==============================] - 0s 2ms/step - loss: 0.6308 - accuracy: 0.8533\n",
            "Epoch 24/100\n",
            "5/5 [==============================] - 0s 2ms/step - loss: 0.6205 - accuracy: 0.8600\n",
            "Epoch 25/100\n",
            "5/5 [==============================] - 0s 2ms/step - loss: 0.6104 - accuracy: 0.8733\n",
            "Epoch 26/100\n",
            "5/5 [==============================] - 0s 2ms/step - loss: 0.6015 - accuracy: 0.8933\n",
            "Epoch 27/100\n",
            "5/5 [==============================] - 0s 2ms/step - loss: 0.5913 - accuracy: 0.9200\n",
            "Epoch 28/100\n",
            "5/5 [==============================] - 0s 2ms/step - loss: 0.5822 - accuracy: 0.9200\n",
            "Epoch 29/100\n",
            "5/5 [==============================] - 0s 2ms/step - loss: 0.5738 - accuracy: 0.9333\n",
            "Epoch 30/100\n",
            "5/5 [==============================] - 0s 1ms/step - loss: 0.5645 - accuracy: 0.9400\n",
            "Epoch 31/100\n",
            "5/5 [==============================] - 0s 1ms/step - loss: 0.5563 - accuracy: 0.9600\n",
            "Epoch 32/100\n",
            "5/5 [==============================] - 0s 2ms/step - loss: 0.5472 - accuracy: 0.9533\n",
            "Epoch 33/100\n",
            "5/5 [==============================] - 0s 1ms/step - loss: 0.5391 - accuracy: 0.9400\n",
            "Epoch 34/100\n",
            "5/5 [==============================] - 0s 1ms/step - loss: 0.5315 - accuracy: 0.9600\n",
            "Epoch 35/100\n",
            "5/5 [==============================] - 0s 1ms/step - loss: 0.5231 - accuracy: 0.9667\n",
            "Epoch 36/100\n",
            "5/5 [==============================] - 0s 2ms/step - loss: 0.5152 - accuracy: 0.9733\n",
            "Epoch 37/100\n",
            "5/5 [==============================] - 0s 1ms/step - loss: 0.5076 - accuracy: 0.9600\n",
            "Epoch 38/100\n",
            "5/5 [==============================] - 0s 1ms/step - loss: 0.4992 - accuracy: 0.9733\n",
            "Epoch 39/100\n",
            "5/5 [==============================] - 0s 1ms/step - loss: 0.4924 - accuracy: 0.9800\n",
            "Epoch 40/100\n",
            "5/5 [==============================] - 0s 1ms/step - loss: 0.4847 - accuracy: 0.9733\n",
            "Epoch 41/100\n",
            "5/5 [==============================] - 0s 1ms/step - loss: 0.4766 - accuracy: 0.9667\n",
            "Epoch 42/100\n",
            "5/5 [==============================] - 0s 2ms/step - loss: 0.4696 - accuracy: 0.9800\n",
            "Epoch 43/100\n",
            "5/5 [==============================] - 0s 2ms/step - loss: 0.4640 - accuracy: 0.9733\n",
            "Epoch 44/100\n",
            "5/5 [==============================] - 0s 2ms/step - loss: 0.4550 - accuracy: 0.9800\n",
            "Epoch 45/100\n",
            "5/5 [==============================] - 0s 1ms/step - loss: 0.4485 - accuracy: 0.9733\n",
            "Epoch 46/100\n",
            "5/5 [==============================] - 0s 1ms/step - loss: 0.4415 - accuracy: 0.9800\n",
            "Epoch 47/100\n",
            "5/5 [==============================] - 0s 1ms/step - loss: 0.4346 - accuracy: 0.9733\n",
            "Epoch 48/100\n",
            "5/5 [==============================] - 0s 1ms/step - loss: 0.4291 - accuracy: 0.9667\n",
            "Epoch 49/100\n",
            "5/5 [==============================] - 0s 1ms/step - loss: 0.4210 - accuracy: 0.9667\n",
            "Epoch 50/100\n",
            "5/5 [==============================] - 0s 1ms/step - loss: 0.4143 - accuracy: 0.9667\n",
            "Epoch 51/100\n",
            "5/5 [==============================] - 0s 1ms/step - loss: 0.4088 - accuracy: 0.9667\n",
            "Epoch 52/100\n",
            "5/5 [==============================] - 0s 1ms/step - loss: 0.4035 - accuracy: 0.9800\n",
            "Epoch 53/100\n",
            "5/5 [==============================] - 0s 1ms/step - loss: 0.3982 - accuracy: 0.9800\n",
            "Epoch 54/100\n",
            "5/5 [==============================] - 0s 1ms/step - loss: 0.3916 - accuracy: 0.9667\n",
            "Epoch 55/100\n",
            "5/5 [==============================] - 0s 1ms/step - loss: 0.3855 - accuracy: 0.9667\n",
            "Epoch 56/100\n",
            "5/5 [==============================] - 0s 1ms/step - loss: 0.3785 - accuracy: 0.9667\n",
            "Epoch 57/100\n",
            "5/5 [==============================] - 0s 2ms/step - loss: 0.3738 - accuracy: 0.9667\n",
            "Epoch 58/100\n",
            "5/5 [==============================] - 0s 1ms/step - loss: 0.3671 - accuracy: 0.9800\n",
            "Epoch 59/100\n",
            "5/5 [==============================] - 0s 1ms/step - loss: 0.3620 - accuracy: 0.9667\n",
            "Epoch 60/100\n",
            "5/5 [==============================] - 0s 2ms/step - loss: 0.3591 - accuracy: 0.9733\n",
            "Epoch 61/100\n",
            "5/5 [==============================] - 0s 2ms/step - loss: 0.3506 - accuracy: 0.9667\n",
            "Epoch 62/100\n",
            "5/5 [==============================] - 0s 1ms/step - loss: 0.3465 - accuracy: 0.9667\n",
            "Epoch 63/100\n",
            "5/5 [==============================] - 0s 2ms/step - loss: 0.3407 - accuracy: 0.9667\n",
            "Epoch 64/100\n",
            "5/5 [==============================] - 0s 2ms/step - loss: 0.3378 - accuracy: 0.9800\n",
            "Epoch 65/100\n",
            "5/5 [==============================] - 0s 1ms/step - loss: 0.3304 - accuracy: 0.9667\n",
            "Epoch 66/100\n",
            "5/5 [==============================] - 0s 2ms/step - loss: 0.3253 - accuracy: 0.9667\n",
            "Epoch 67/100\n",
            "5/5 [==============================] - 0s 2ms/step - loss: 0.3207 - accuracy: 0.9733\n",
            "Epoch 68/100\n",
            "5/5 [==============================] - 0s 2ms/step - loss: 0.3167 - accuracy: 0.9800\n",
            "Epoch 69/100\n",
            "5/5 [==============================] - 0s 2ms/step - loss: 0.3122 - accuracy: 0.9800\n",
            "Epoch 70/100\n",
            "5/5 [==============================] - 0s 1ms/step - loss: 0.3061 - accuracy: 0.9667\n",
            "Epoch 71/100\n",
            "5/5 [==============================] - 0s 2ms/step - loss: 0.3026 - accuracy: 0.9667\n",
            "Epoch 72/100\n",
            "5/5 [==============================] - 0s 1ms/step - loss: 0.3006 - accuracy: 0.9733\n",
            "Epoch 73/100\n",
            "5/5 [==============================] - 0s 1ms/step - loss: 0.2930 - accuracy: 0.9733\n",
            "Epoch 74/100\n",
            "5/5 [==============================] - 0s 1ms/step - loss: 0.2883 - accuracy: 0.9800\n",
            "Epoch 75/100\n",
            "5/5 [==============================] - 0s 1ms/step - loss: 0.2839 - accuracy: 0.9800\n",
            "Epoch 76/100\n",
            "5/5 [==============================] - 0s 1ms/step - loss: 0.2826 - accuracy: 0.9733\n",
            "Epoch 77/100\n",
            "5/5 [==============================] - 0s 1ms/step - loss: 0.2761 - accuracy: 0.9733\n",
            "Epoch 78/100\n",
            "5/5 [==============================] - 0s 1ms/step - loss: 0.2712 - accuracy: 0.9733\n",
            "Epoch 79/100\n",
            "5/5 [==============================] - 0s 1ms/step - loss: 0.2663 - accuracy: 0.9733\n",
            "Epoch 80/100\n",
            "5/5 [==============================] - 0s 1ms/step - loss: 0.2647 - accuracy: 0.9733\n",
            "Epoch 81/100\n",
            "5/5 [==============================] - 0s 1ms/step - loss: 0.2590 - accuracy: 0.9800\n",
            "Epoch 82/100\n",
            "5/5 [==============================] - 0s 2ms/step - loss: 0.2577 - accuracy: 0.9800\n",
            "Epoch 83/100\n",
            "5/5 [==============================] - 0s 1ms/step - loss: 0.2529 - accuracy: 0.9800\n",
            "Epoch 84/100\n",
            "5/5 [==============================] - 0s 2ms/step - loss: 0.2486 - accuracy: 0.9800\n",
            "Epoch 85/100\n",
            "5/5 [==============================] - 0s 1ms/step - loss: 0.2435 - accuracy: 0.9733\n",
            "Epoch 86/100\n",
            "5/5 [==============================] - 0s 1ms/step - loss: 0.2405 - accuracy: 0.9800\n",
            "Epoch 87/100\n",
            "5/5 [==============================] - 0s 1ms/step - loss: 0.2410 - accuracy: 0.9800\n",
            "Epoch 88/100\n",
            "5/5 [==============================] - 0s 1ms/step - loss: 0.2352 - accuracy: 0.9800\n",
            "Epoch 89/100\n",
            "5/5 [==============================] - 0s 1ms/step - loss: 0.2306 - accuracy: 0.9733\n",
            "Epoch 90/100\n",
            "5/5 [==============================] - 0s 1ms/step - loss: 0.2272 - accuracy: 0.9800\n",
            "Epoch 91/100\n",
            "5/5 [==============================] - 0s 1ms/step - loss: 0.2233 - accuracy: 0.9800\n",
            "Epoch 92/100\n",
            "5/5 [==============================] - 0s 2ms/step - loss: 0.2210 - accuracy: 0.9733\n",
            "Epoch 93/100\n",
            "5/5 [==============================] - 0s 2ms/step - loss: 0.2177 - accuracy: 0.9733\n",
            "Epoch 94/100\n",
            "5/5 [==============================] - 0s 1ms/step - loss: 0.2177 - accuracy: 0.9800\n",
            "Epoch 95/100\n",
            "5/5 [==============================] - 0s 1ms/step - loss: 0.2143 - accuracy: 0.9667\n",
            "Epoch 96/100\n",
            "5/5 [==============================] - 0s 1ms/step - loss: 0.2089 - accuracy: 0.9800\n",
            "Epoch 97/100\n",
            "5/5 [==============================] - 0s 1ms/step - loss: 0.2072 - accuracy: 0.9800\n",
            "Epoch 98/100\n",
            "5/5 [==============================] - 0s 2ms/step - loss: 0.2037 - accuracy: 0.9800\n",
            "Epoch 99/100\n",
            "5/5 [==============================] - 0s 1ms/step - loss: 0.2021 - accuracy: 0.9800\n",
            "Epoch 100/100\n",
            "5/5 [==============================] - 0s 2ms/step - loss: 0.1994 - accuracy: 0.9800\n"
          ],
          "name": "stdout"
        },
        {
          "output_type": "execute_result",
          "data": {
            "text/plain": [
              "<tensorflow.python.keras.callbacks.History at 0x7f14988b29e8>"
            ]
          },
          "metadata": {
            "tags": []
          },
          "execution_count": 20
        }
      ]
    },
    {
      "cell_type": "code",
      "metadata": {
        "id": "JteEdk6dEhxQ",
        "colab_type": "code",
        "colab": {
          "base_uri": "https://localhost:8080/",
          "height": 105
        },
        "outputId": "13f80f52-d1db-4cf4-c381-bafff1ac46d4"
      },
      "source": [
        "model.predict(indep[-5:])"
      ],
      "execution_count": 21,
      "outputs": [
        {
          "output_type": "execute_result",
          "data": {
            "text/plain": [
              "array([[0.0647525 , 0.09640194, 0.83884555],\n",
              "       [0.05390057, 0.07290176, 0.8731976 ],\n",
              "       [0.07617424, 0.16021852, 0.7636073 ],\n",
              "       [0.05946762, 0.08612099, 0.8544114 ],\n",
              "       [0.07224119, 0.16679746, 0.76096135]], dtype=float32)"
            ]
          },
          "metadata": {
            "tags": []
          },
          "execution_count": 21
        }
      ]
    },
    {
      "cell_type": "code",
      "metadata": {
        "id": "KGQG5jUeHfBl",
        "colab_type": "code",
        "colab": {
          "base_uri": "https://localhost:8080/",
          "height": 122
        },
        "outputId": "1b46133c-0853-41e6-e310-6dfc7ce441d7"
      },
      "source": [
        "print(dep[-5:])"
      ],
      "execution_count": 22,
      "outputs": [
        {
          "output_type": "stream",
          "text": [
            "     품종_setosa  품종_versicolor  품종_virginica\n",
            "145          0              0             1\n",
            "146          0              0             1\n",
            "147          0              0             1\n",
            "148          0              0             1\n",
            "149          0              0             1\n"
          ],
          "name": "stdout"
        }
      ]
    },
    {
      "cell_type": "code",
      "metadata": {
        "id": "qQqbUO_PHkbW",
        "colab_type": "code",
        "colab": {
          "base_uri": "https://localhost:8080/",
          "height": 105
        },
        "outputId": "cf8fdee0-8618-4e48-fcee-a24cade92394"
      },
      "source": [
        "model.get_weights()"
      ],
      "execution_count": 18,
      "outputs": [
        {
          "output_type": "execute_result",
          "data": {
            "text/plain": [
              "[array([[ 0.4178572 ,  0.07021602,  0.18213339],\n",
              "        [ 0.8228358 , -0.3744509 , -1.1783751 ],\n",
              "        [-0.81118906,  0.7334196 ,  1.1140108 ],\n",
              "        [-2.119158  , -0.23641227,  0.36997148]], dtype=float32),\n",
              " array([ 0.80655414,  0.41546762, -0.697876  ], dtype=float32)]"
            ]
          },
          "metadata": {
            "tags": []
          },
          "execution_count": 18
        }
      ]
    },
    {
      "cell_type": "code",
      "metadata": {
        "id": "lq6A8T5TH1Cw",
        "colab_type": "code",
        "colab": {}
      },
      "source": [
        ""
      ],
      "execution_count": null,
      "outputs": []
    }
  ]
}